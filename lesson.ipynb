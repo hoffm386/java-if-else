{
 "cells": [
  {
   "cell_type": "markdown",
   "id": "aeb58dcd",
   "metadata": {},
   "source": [
    "# Booleans and Conditional Statements\n",
    "\n",
    "---\n",
    "\n",
    "Erin R. Hoffman, February 2022"
   ]
  },
  {
   "cell_type": "markdown",
   "id": "6b506eb7",
   "metadata": {},
   "source": [
    "## Prerequisites\n",
    "\n",
    "Before this lesson, students should already be able to:\n",
    "\n",
    "* Create ***variables*** in Java, particularly integers and doubles\n",
    "* Use ***expressions*** to manipulate and combine variables\n",
    "* Follow the appropriate ***order of operations*** in Java expressions, including math operations\n",
    "\n",
    "---"
   ]
  },
  {
   "cell_type": "markdown",
   "id": "cb8abef9",
   "metadata": {},
   "source": [
    "## Learning Objectives\n",
    "\n",
    "By the end of this lesson, students will be able to:\n",
    "\n",
    "* Define the term ***control flow*** and explain why it is a useful tool in programming\n",
    "* Describe the two values of the ***boolean*** data type in Java\n",
    "* Apply ***operators*** to variables in order to form ***boolean expressions***\n",
    "* Utilize boolean expressions in ***conditional statements*** that determine whether or not a given ***code block*** will be executed\n",
    "* Practice translating English-language word problems into conditional statements and code blocks\n"
   ]
  },
  {
   "cell_type": "markdown",
   "id": "a52242e6",
   "metadata": {},
   "source": [
    "---"
   ]
  },
  {
   "cell_type": "markdown",
   "id": "99e15362",
   "metadata": {},
   "source": [
    "## The Motivation: Control Flow\n",
    "\n",
    "When do we need control flow?\n",
    "\n",
    "<img src=\"images/workflow.png\" alt=\"three shapes with arrows going from the first to the second to the third\" style=\"width: 40%\">\n",
    "\n",
    "<a href=\"https://www.flaticon.com/free-icons/workflow\" title=\"workflow icons\">Workflow icons created by Uniconlabs - Flaticon</a>\n",
    "\n",
    "A better question might be...when do we **not** need control flow?\n",
    "\n",
    "---"
   ]
  },
  {
   "cell_type": "markdown",
   "id": "c534ca78",
   "metadata": {},
   "source": [
    "## The Boolean Data Type\n",
    "\n",
    "### Recall: What Is a Data Type?\n",
    "\n",
    "Some data types you have seen already include:\n",
    "\n",
    "#### Integers"
   ]
  },
  {
   "cell_type": "code",
   "execution_count": 1,
   "id": "59c55710",
   "metadata": {},
   "outputs": [],
   "source": [
    "int month = 12;"
   ]
  },
  {
   "cell_type": "code",
   "execution_count": 2,
   "id": "b7f5b3dc",
   "metadata": {},
   "outputs": [
    {
     "data": {
      "text/plain": [
       "12"
      ]
     },
     "execution_count": 2,
     "metadata": {},
     "output_type": "execute_result"
    }
   ],
   "source": [
    "month"
   ]
  },
  {
   "cell_type": "code",
   "execution_count": 3,
   "id": "9ebdbb9c",
   "metadata": {},
   "outputs": [
    {
     "data": {
      "text/plain": [
       "10"
      ]
     },
     "execution_count": 3,
     "metadata": {},
     "output_type": "execute_result"
    }
   ],
   "source": [
    "month - 2"
   ]
  },
  {
   "cell_type": "code",
   "execution_count": 4,
   "id": "643edcdc",
   "metadata": {},
   "outputs": [
    {
     "data": {
      "text/plain": [
       "0"
      ]
     },
     "execution_count": 4,
     "metadata": {},
     "output_type": "execute_result"
    }
   ],
   "source": [
    "(month - 2) % 2"
   ]
  },
  {
   "cell_type": "markdown",
   "id": "c2cd6685",
   "metadata": {},
   "source": [
    "#### Doubles"
   ]
  },
  {
   "cell_type": "code",
   "execution_count": 5,
   "id": "d537e309",
   "metadata": {},
   "outputs": [],
   "source": [
    "double length = 1.5;"
   ]
  },
  {
   "cell_type": "code",
   "execution_count": 6,
   "id": "060406cc",
   "metadata": {},
   "outputs": [
    {
     "data": {
      "text/plain": [
       "1.5"
      ]
     },
     "execution_count": 6,
     "metadata": {},
     "output_type": "execute_result"
    }
   ],
   "source": [
    "length"
   ]
  },
  {
   "cell_type": "code",
   "execution_count": 7,
   "id": "069e2d1c",
   "metadata": {},
   "outputs": [
    {
     "data": {
      "text/plain": [
       "10.5"
      ]
     },
     "execution_count": 7,
     "metadata": {},
     "output_type": "execute_result"
    }
   ],
   "source": [
    "length * 7"
   ]
  },
  {
   "cell_type": "markdown",
   "id": "60a78525",
   "metadata": {},
   "source": [
    "#### Boolean is another data type"
   ]
  },
  {
   "cell_type": "code",
   "execution_count": 8,
   "id": "e4756442",
   "metadata": {},
   "outputs": [],
   "source": [
    "boolean isSunny = true;"
   ]
  },
  {
   "cell_type": "code",
   "execution_count": 9,
   "id": "dea3d3b4",
   "metadata": {},
   "outputs": [
    {
     "data": {
      "text/plain": [
       "true"
      ]
     },
     "execution_count": 9,
     "metadata": {},
     "output_type": "execute_result"
    }
   ],
   "source": [
    "isSunny"
   ]
  },
  {
   "cell_type": "code",
   "execution_count": 10,
   "id": "813d3da8",
   "metadata": {},
   "outputs": [],
   "source": [
    "boolean isRaining = false;"
   ]
  },
  {
   "cell_type": "code",
   "execution_count": 11,
   "id": "6eb0a0ab",
   "metadata": {},
   "outputs": [
    {
     "data": {
      "text/plain": [
       "false"
      ]
     },
     "execution_count": 11,
     "metadata": {},
     "output_type": "execute_result"
    }
   ],
   "source": [
    "isRaining"
   ]
  },
  {
   "cell_type": "markdown",
   "id": "29446074",
   "metadata": {},
   "source": [
    "---\n",
    "\n",
    "<details>\n",
    "    <summary style=\"cursor: pointer;\">Clarification (click to expand)</summary>\n",
    "    <p>Confusingly, there is also a wrapper object called <code>Boolean</code> (note the capital \"B\"). We won't be using it, but you can read the documentation <a href=\"https://docs.oracle.com/en/java/javase/11/docs/api/java.base/java/lang/Boolean.html\">here</a> if you're curious</p>\n",
    "</details>\n"
   ]
  },
  {
   "cell_type": "markdown",
   "id": "cacceab3",
   "metadata": {},
   "source": [
    "### Boolean Data Type Recap\n",
    "\n",
    "* A ***data type*** is something like `int` or `double`, which defines the \"kind of thing\" being stored in a variable\n",
    "* You have just been introduced to a data type called `boolean`\n",
    "* It can only have two values: `true` or `false`"
   ]
  },
  {
   "cell_type": "markdown",
   "id": "40ef9066",
   "metadata": {},
   "source": [
    "---"
   ]
  },
  {
   "cell_type": "markdown",
   "id": "55f0dcb7",
   "metadata": {},
   "source": [
    "Ok but...why?\n",
    "\n",
    "## Boolean Operators and Expressions\n",
    "\n",
    "Let's set up some example variables:"
   ]
  },
  {
   "cell_type": "code",
   "execution_count": 12,
   "id": "432b9800",
   "metadata": {},
   "outputs": [],
   "source": [
    "int lower = 0;\n",
    "int upper = 100;"
   ]
  },
  {
   "cell_type": "markdown",
   "id": "fa5e8685",
   "metadata": {},
   "source": [
    "### Equality\n",
    "\n",
    "*Is 5 the minimum?*"
   ]
  },
  {
   "cell_type": "code",
   "execution_count": 13,
   "id": "6f8cf67e",
   "metadata": {},
   "outputs": [
    {
     "data": {
      "text/plain": [
       "false"
      ]
     },
     "execution_count": 13,
     "metadata": {},
     "output_type": "execute_result"
    }
   ],
   "source": [
    "5 == lower"
   ]
  },
  {
   "cell_type": "markdown",
   "id": "c8a4ab30",
   "metadata": {},
   "source": [
    "*Is the maximum 100?*"
   ]
  },
  {
   "cell_type": "code",
   "execution_count": 14,
   "id": "18c212fc",
   "metadata": {},
   "outputs": [
    {
     "data": {
      "text/plain": [
       "true"
      ]
     },
     "execution_count": 14,
     "metadata": {},
     "output_type": "execute_result"
    }
   ],
   "source": [
    "upper == 100"
   ]
  },
  {
   "cell_type": "markdown",
   "id": "256120e8",
   "metadata": {},
   "source": [
    "*Are the minimum and maximum the same?*"
   ]
  },
  {
   "cell_type": "code",
   "execution_count": 15,
   "id": "afb80bc0",
   "metadata": {},
   "outputs": [
    {
     "data": {
      "text/plain": [
       "false"
      ]
     },
     "execution_count": 15,
     "metadata": {},
     "output_type": "execute_result"
    }
   ],
   "source": [
    "lower == upper"
   ]
  },
  {
   "cell_type": "markdown",
   "id": "54cddef1",
   "metadata": {},
   "source": [
    "### Not\n",
    "\n",
    "*Is 5* **not** *the minimum?*"
   ]
  },
  {
   "cell_type": "code",
   "execution_count": 16,
   "id": "0d6c5bd6",
   "metadata": {},
   "outputs": [
    {
     "data": {
      "text/plain": [
       "true"
      ]
     },
     "execution_count": 16,
     "metadata": {},
     "output_type": "execute_result"
    }
   ],
   "source": [
    "!(5 == lower)"
   ]
  },
  {
   "cell_type": "code",
   "execution_count": 17,
   "id": "5b9b1c33",
   "metadata": {},
   "outputs": [
    {
     "data": {
      "text/plain": [
       "true"
      ]
     },
     "execution_count": 17,
     "metadata": {},
     "output_type": "execute_result"
    }
   ],
   "source": [
    "5 != lower"
   ]
  },
  {
   "cell_type": "markdown",
   "id": "339369bb",
   "metadata": {},
   "source": [
    "### Greater Than, Less Than\n",
    "\n",
    "*The user has input a value of 50. Is that more than the minimum?*"
   ]
  },
  {
   "cell_type": "code",
   "execution_count": 18,
   "id": "6df02586",
   "metadata": {},
   "outputs": [
    {
     "data": {
      "text/plain": [
       "true"
      ]
     },
     "execution_count": 18,
     "metadata": {},
     "output_type": "execute_result"
    }
   ],
   "source": [
    "50 > lower"
   ]
  },
  {
   "cell_type": "markdown",
   "id": "80499beb",
   "metadata": {},
   "source": [
    "*Is it less than the maximum?*"
   ]
  },
  {
   "cell_type": "code",
   "execution_count": 19,
   "id": "d371c40c",
   "metadata": {},
   "outputs": [
    {
     "data": {
      "text/plain": [
       "true"
      ]
     },
     "execution_count": 19,
     "metadata": {},
     "output_type": "execute_result"
    }
   ],
   "source": [
    "50 < upper"
   ]
  },
  {
   "cell_type": "markdown",
   "id": "bdc074b2",
   "metadata": {},
   "source": [
    "*Now the user has input 100. Is that less than the maximum?*"
   ]
  },
  {
   "cell_type": "code",
   "execution_count": 20,
   "id": "2fbbae3a",
   "metadata": {},
   "outputs": [
    {
     "data": {
      "text/plain": [
       "false"
      ]
     },
     "execution_count": 20,
     "metadata": {},
     "output_type": "execute_result"
    }
   ],
   "source": [
    "100 < upper"
   ]
  },
  {
   "cell_type": "markdown",
   "id": "b9b0b640",
   "metadata": {},
   "source": [
    "### Greater Than Or Equal To, Less Than Or Equal To\n",
    "\n",
    "*What if we want to define the valid range as 0 to 100* **inclusive**_? Is 100 a valid input?_"
   ]
  },
  {
   "cell_type": "code",
   "execution_count": 21,
   "id": "4a731b1d",
   "metadata": {},
   "outputs": [
    {
     "data": {
      "text/plain": [
       "true"
      ]
     },
     "execution_count": 21,
     "metadata": {},
     "output_type": "execute_result"
    }
   ],
   "source": [
    "100 >= lower"
   ]
  },
  {
   "cell_type": "code",
   "execution_count": 22,
   "id": "2b63eb30",
   "metadata": {},
   "outputs": [
    {
     "data": {
      "text/plain": [
       "true"
      ]
     },
     "execution_count": 22,
     "metadata": {},
     "output_type": "execute_result"
    }
   ],
   "source": [
    "100 <= upper"
   ]
  },
  {
   "cell_type": "markdown",
   "id": "07b9c370",
   "metadata": {},
   "source": [
    "### And and Or\n",
    "\n",
    "#### And\n",
    "\n",
    "*Can we check whether an input is valid in a single line?*"
   ]
  },
  {
   "cell_type": "code",
   "execution_count": 23,
   "id": "0c95021d",
   "metadata": {},
   "outputs": [
    {
     "data": {
      "text/plain": [
       "true"
      ]
     },
     "execution_count": 23,
     "metadata": {},
     "output_type": "execute_result"
    }
   ],
   "source": [
    "(lower <= 100) && (100 <= upper)"
   ]
  },
  {
   "cell_type": "code",
   "execution_count": 24,
   "id": "18e8b4fe",
   "metadata": {},
   "outputs": [
    {
     "data": {
      "text/plain": [
       "false"
      ]
     },
     "execution_count": 24,
     "metadata": {},
     "output_type": "execute_result"
    }
   ],
   "source": [
    "(lower <= 500) && (500 <= upper)"
   ]
  },
  {
   "cell_type": "code",
   "execution_count": 25,
   "id": "4159e2c2",
   "metadata": {},
   "outputs": [
    {
     "data": {
      "text/plain": [
       "false"
      ]
     },
     "execution_count": 25,
     "metadata": {},
     "output_type": "execute_result"
    }
   ],
   "source": [
    "(lower <= -5) && (-5 <= lower)"
   ]
  },
  {
   "cell_type": "markdown",
   "id": "13b823e8",
   "metadata": {},
   "source": [
    "#### Or\n",
    "\n",
    "*What if, instead of an inclusive range, inputs are valid if they're* **either** *below the lower bound* **or** *above the upper bound?*"
   ]
  },
  {
   "cell_type": "code",
   "execution_count": 26,
   "id": "5ee285e9",
   "metadata": {},
   "outputs": [
    {
     "data": {
      "text/plain": [
       "true"
      ]
     },
     "execution_count": 26,
     "metadata": {},
     "output_type": "execute_result"
    }
   ],
   "source": [
    "(100 <= lower) || (upper <= 100)"
   ]
  },
  {
   "cell_type": "code",
   "execution_count": 27,
   "id": "ea25411c",
   "metadata": {},
   "outputs": [
    {
     "data": {
      "text/plain": [
       "true"
      ]
     },
     "execution_count": 27,
     "metadata": {},
     "output_type": "execute_result"
    }
   ],
   "source": [
    "(500 <= lower) || (upper <= 500)"
   ]
  },
  {
   "cell_type": "code",
   "execution_count": 28,
   "id": "b3e1736e",
   "metadata": {},
   "outputs": [
    {
     "data": {
      "text/plain": [
       "true"
      ]
     },
     "execution_count": 28,
     "metadata": {},
     "output_type": "execute_result"
    }
   ],
   "source": [
    "(-5 <= lower) || (upper <= -5)"
   ]
  },
  {
   "cell_type": "markdown",
   "id": "b5ad57f4",
   "metadata": {},
   "source": [
    "---\n",
    "\n",
    "### Boolean Operators and Expressions Recap\n",
    "\n",
    "* ***Boolean expressions*** are expressions that result in a boolean, although they can (and typically do) compare non-boolean values\n",
    "* ***Boolean operators*** are used to make comparisons in boolean expressions. The Java boolean operators are:\n",
    "  * `==` (is equal to)\n",
    "  * `!=` (is not equal to)\n",
    "  * `>` (is greater than)\n",
    "  * `<` (is less than)\n",
    "  * `>=` (is greater than or equal to)\n",
    "  * `<=` (is less than or equal to)\n",
    "  * `&&` (and)\n",
    "  * `||` (or)\n",
    "  * `!` (not)\n",
    "  \n",
    "---"
   ]
  },
  {
   "cell_type": "markdown",
   "id": "9dca9928",
   "metadata": {},
   "source": [
    "## Conditional Statements\n",
    "\n",
    "Now we can finally start to implement control flow!"
   ]
  },
  {
   "cell_type": "markdown",
   "id": "a24187b9",
   "metadata": {},
   "source": [
    "<img src=\"images/flowchart.png\" alt=\"flowchart\" style=\"width: 40%\">\n",
    "\n",
    "<a href=\"https://www.flaticon.com/free-icons/process\" title=\"process icons\">Process icons created by Uniconlabs - Flaticon</a>\n",
    "\n",
    "---"
   ]
  },
  {
   "cell_type": "markdown",
   "id": "628c1f61",
   "metadata": {},
   "source": [
    "### `if`\n",
    "\n",
    "*User input is invalid if it's smaller than the minimum.*"
   ]
  },
  {
   "cell_type": "code",
   "execution_count": 29,
   "id": "0ff396a8",
   "metadata": {},
   "outputs": [],
   "source": [
    "int userInput = -5;"
   ]
  },
  {
   "cell_type": "code",
   "execution_count": 30,
   "id": "6774a6b6",
   "metadata": {},
   "outputs": [
    {
     "name": "stdout",
     "output_type": "stream",
     "text": [
      "Input too small\n"
     ]
    }
   ],
   "source": [
    "if (userInput < lower) System.out.println(\"Input too small\");"
   ]
  },
  {
   "cell_type": "markdown",
   "id": "f01d530c",
   "metadata": {},
   "source": [
    "### `else if`\n",
    "\n",
    "*User input is also invalid if it's larger than the maximum.*"
   ]
  },
  {
   "cell_type": "code",
   "execution_count": 31,
   "id": "130bd315",
   "metadata": {},
   "outputs": [
    {
     "name": "stdout",
     "output_type": "stream",
     "text": [
      "Input too small\n"
     ]
    }
   ],
   "source": [
    "if (userInput < lower) System.out.println(\"Input too small\");\n",
    "else if (userInput > upper) System.out.println(\"Input too big\");"
   ]
  },
  {
   "cell_type": "code",
   "execution_count": 32,
   "id": "3e9c1a94",
   "metadata": {},
   "outputs": [],
   "source": [
    "userInput = 500;"
   ]
  },
  {
   "cell_type": "code",
   "execution_count": 33,
   "id": "b8379df0",
   "metadata": {},
   "outputs": [
    {
     "name": "stdout",
     "output_type": "stream",
     "text": [
      "Input too big\n"
     ]
    }
   ],
   "source": [
    "if (userInput < lower) System.out.println(\"Input too small\");\n",
    "else if (userInput > upper) System.out.println(\"Input too big\");"
   ]
  },
  {
   "cell_type": "markdown",
   "id": "6e06d2c6",
   "metadata": {},
   "source": [
    "### `else`\n",
    "\n",
    "*Otherwise, user input is valid.*"
   ]
  },
  {
   "cell_type": "code",
   "execution_count": 34,
   "id": "e3211da9",
   "metadata": {},
   "outputs": [
    {
     "name": "stdout",
     "output_type": "stream",
     "text": [
      "Input too big\n"
     ]
    }
   ],
   "source": [
    "if (userInput < lower) System.out.println(\"Input too small\");\n",
    "else if (userInput > upper) System.out.println(\"Input too big\");\n",
    "else System.out.println(\"Valid input!\");"
   ]
  },
  {
   "cell_type": "code",
   "execution_count": 35,
   "id": "06deee4a",
   "metadata": {},
   "outputs": [],
   "source": [
    "userInput = 75;"
   ]
  },
  {
   "cell_type": "code",
   "execution_count": 36,
   "id": "d0a41ab0",
   "metadata": {},
   "outputs": [
    {
     "name": "stdout",
     "output_type": "stream",
     "text": [
      "Valid input!\n"
     ]
    }
   ],
   "source": [
    "if (userInput < lower) System.out.println(\"Input too small\");\n",
    "else if (userInput > upper) System.out.println(\"Input too big\");\n",
    "else System.out.println(\"Valid input!\");"
   ]
  },
  {
   "cell_type": "markdown",
   "id": "cda76b1a",
   "metadata": {},
   "source": [
    "---\n",
    "\n",
    "### Code Blocks: The Dreaded Curly Braces"
   ]
  },
  {
   "cell_type": "code",
   "execution_count": 37,
   "id": "a5a1402b",
   "metadata": {},
   "outputs": [
    {
     "name": "stdout",
     "output_type": "stream",
     "text": [
      "Valid input!\n"
     ]
    }
   ],
   "source": [
    "if (userInput < lower) {\n",
    "    System.out.println(\"Input too small\");\n",
    "} else if (userInput > upper) {\n",
    "    System.out.println(\"Input too big\");\n",
    "} else {\n",
    "    System.out.println(\"Valid input!\");\n",
    "}"
   ]
  },
  {
   "cell_type": "markdown",
   "id": "acd1f8ba",
   "metadata": {},
   "source": [
    "### Conditional Statements Recap\n",
    "\n",
    "* A ***conditional statement*** = a boolean expression + `if`, `else if`, or `else` keyword\n",
    "* Conditional statements determine whether a given piece of code will be executed\n",
    "* Typically this code is contained in a ***code block*** surrounded by curly braces\n",
    "\n",
    "---"
   ]
  },
  {
   "cell_type": "markdown",
   "id": "17fd586a",
   "metadata": {},
   "source": [
    "## Practice\n",
    "\n",
    "A tricky but exemplary conditional statement word problem is FizzBuzz, which comes from a [children's game](https://en.wikipedia.org/wiki/Fizz_buzz).\n",
    "\n",
    "It goes like this:\n",
    "\n",
    "* Given a number, print it out\n",
    "* Except if the number is divisible by 3, print out \"Fizz\" instead\n",
    "* And if the number is divisible by 5, print out \"Buzz\" instead\n",
    "* Finally, if the number is divisible by both 3 and 5, print out \"FizzBuzz\" instead"
   ]
  },
  {
   "cell_type": "code",
   "execution_count": null,
   "id": "7ee79f04",
   "metadata": {},
   "outputs": [],
   "source": []
  },
  {
   "cell_type": "markdown",
   "id": "25f181fb",
   "metadata": {},
   "source": [
    "---\n",
    "\n",
    "## Recap\n",
    "\n",
    "### Reviewing Learning Objectives\n",
    "\n",
    "Now you should be able to:\n",
    "\n",
    "* Define the term ***control flow*** and explain why it is a useful tool in programming"
   ]
  },
  {
   "cell_type": "markdown",
   "id": "6105e03f",
   "metadata": {},
   "source": [
    "* Describe the two values of the ***boolean*** data type in Java"
   ]
  },
  {
   "cell_type": "markdown",
   "id": "7b1b385d",
   "metadata": {},
   "source": [
    "* Apply ***operators*** to variables in order to form ***boolean expressions***"
   ]
  },
  {
   "cell_type": "markdown",
   "id": "e1abac0e",
   "metadata": {},
   "source": [
    "* Utilize boolean expressions in ***conditional statements*** that determine whether or not a given ***code block*** will be executed"
   ]
  },
  {
   "cell_type": "markdown",
   "id": "eb6e926f",
   "metadata": {},
   "source": [
    "* Practice translating English-language word problems into conditional statements and code blocks"
   ]
  },
  {
   "cell_type": "markdown",
   "id": "eac3d0e9",
   "metadata": {},
   "source": [
    "That's all, folks! Up next, another type of control flow: loops."
   ]
  }
 ],
 "metadata": {
  "kernelspec": {
   "display_name": "Java",
   "language": "java",
   "name": "java"
  },
  "language_info": {
   "codemirror_mode": "java",
   "file_extension": ".jshell",
   "mimetype": "text/x-java-source",
   "name": "Java",
   "pygments_lexer": "java",
   "version": "11.0.12+0"
  }
 },
 "nbformat": 4,
 "nbformat_minor": 5
}
