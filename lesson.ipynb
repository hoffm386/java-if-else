{
 "cells": [
  {
   "cell_type": "markdown",
   "id": "aeb58dcd",
   "metadata": {},
   "source": [
    "# Booleans and Conditional Statements\n",
    "\n",
    "---\n",
    "\n",
    "Erin R. Hoffman, February 2022"
   ]
  },
  {
   "cell_type": "markdown",
   "id": "6b506eb7",
   "metadata": {},
   "source": [
    "## Prerequisites\n",
    "\n",
    "Before this lesson, students should already be able to:\n",
    "\n",
    "* Create ***variables*** in Java, such as strings and integers\n",
    "* Use ***expressions*** to manipulate and combine variables\n",
    "* Follow the appropriate ***order of operations*** in Java expressions, including math operations\n",
    "\n",
    "---"
   ]
  },
  {
   "cell_type": "markdown",
   "id": "cb8abef9",
   "metadata": {},
   "source": [
    "## Learning Objectives\n",
    "\n",
    "By the end of this lesson, students will be able to:\n",
    "\n",
    "* Define the term ***control flow*** and explain why it is a useful tool in programming\n",
    "* Describe the two values of the ***boolean*** data type in Java\n",
    "* Apply ***operators*** to variables in order to form ***boolean expressions***\n",
    "* Utilize boolean expressions in ***conditional statements*** that determine whether or not a given ***code block*** will be executed\n",
    "* Practice translating English-language word problems into conditional statements and code blocks\n"
   ]
  },
  {
   "cell_type": "markdown",
   "id": "a52242e6",
   "metadata": {},
   "source": [
    "---"
   ]
  },
  {
   "cell_type": "markdown",
   "id": "99e15362",
   "metadata": {},
   "source": [
    "## The Motivation: Control Flow\n",
    "\n",
    "When do we need control flow?\n",
    "\n",
    "<img src=\"images/workflow.png\" alt=\"three shapes with arrows going from the first to the second to the third\" style=\"width: 40%\">\n",
    "\n",
    "<a href=\"https://www.flaticon.com/free-icons/workflow\" title=\"workflow icons\">Workflow icons created by Uniconlabs - Flaticon</a>\n",
    "\n",
    "A better question might be...when do we **not** need control flow?\n",
    "\n",
    "---"
   ]
  },
  {
   "cell_type": "markdown",
   "id": "c534ca78",
   "metadata": {},
   "source": [
    "## The Boolean Data Type\n",
    "\n",
    "### Recall: What Is a Data Type?\n",
    "\n",
    "Some data types you have seen already include:\n",
    "\n",
    "#### Strings"
   ]
  },
  {
   "cell_type": "code",
   "execution_count": null,
   "id": "e7a35077",
   "metadata": {},
   "outputs": [],
   "source": []
  },
  {
   "cell_type": "markdown",
   "id": "cab2b3f7",
   "metadata": {},
   "source": [
    "#### Integers"
   ]
  },
  {
   "cell_type": "code",
   "execution_count": null,
   "id": "59c55710",
   "metadata": {},
   "outputs": [],
   "source": []
  },
  {
   "cell_type": "markdown",
   "id": "c2cd6685",
   "metadata": {},
   "source": [
    "#### Doubles"
   ]
  },
  {
   "cell_type": "code",
   "execution_count": null,
   "id": "d537e309",
   "metadata": {},
   "outputs": [],
   "source": []
  },
  {
   "cell_type": "markdown",
   "id": "60a78525",
   "metadata": {},
   "source": [
    "#### Boolean is another data type"
   ]
  },
  {
   "cell_type": "code",
   "execution_count": null,
   "id": "e4756442",
   "metadata": {},
   "outputs": [],
   "source": []
  },
  {
   "cell_type": "markdown",
   "id": "31d51bf4",
   "metadata": {},
   "source": [
    "#### Primitive or Object?\n",
    "\n",
    "Recall that primitive data types:\n",
    "\n",
    "* Start with a lowercase letter\n",
    "* Cannot be dereferenced (i.e. `.getClass()` method will not work)"
   ]
  },
  {
   "cell_type": "code",
   "execution_count": null,
   "id": "4f85b0f0",
   "metadata": {},
   "outputs": [],
   "source": []
  },
  {
   "cell_type": "markdown",
   "id": "29446074",
   "metadata": {},
   "source": [
    "---\n",
    "\n",
    "<details>\n",
    "    <summary style=\"cursor: pointer;\">Clarification (click to expand)</summary>\n",
    "    <p>Confusingly, there is also a wrapper object called <code>Boolean</code> (note the capital \"B\"). We won't be using it, but you can read the documentation <a href=\"https://docs.oracle.com/en/java/javase/11/docs/api/java.base/java/lang/Boolean.html\">here</a> if you're curious</p>\n",
    "</details>\n"
   ]
  },
  {
   "cell_type": "markdown",
   "id": "cacceab3",
   "metadata": {},
   "source": [
    "### Boolean Data Type Recap\n",
    "\n",
    "* There is another data type called `boolean`\n",
    "* It is a primitive data type\n",
    "* It can only have two values: `true` or `false`"
   ]
  },
  {
   "cell_type": "markdown",
   "id": "40ef9066",
   "metadata": {},
   "source": [
    "---"
   ]
  },
  {
   "cell_type": "markdown",
   "id": "55f0dcb7",
   "metadata": {},
   "source": [
    "Ok but...why?\n",
    "\n",
    "## Boolean Operators and Expressions\n",
    "\n",
    "### Equality"
   ]
  },
  {
   "cell_type": "code",
   "execution_count": null,
   "id": "6f8cf67e",
   "metadata": {},
   "outputs": [],
   "source": []
  },
  {
   "cell_type": "markdown",
   "id": "339369bb",
   "metadata": {},
   "source": [
    "### Greater Than, Less Than"
   ]
  },
  {
   "cell_type": "code",
   "execution_count": null,
   "id": "6df02586",
   "metadata": {},
   "outputs": [],
   "source": []
  },
  {
   "cell_type": "markdown",
   "id": "b9b0b640",
   "metadata": {},
   "source": [
    "### Greater Than Or Equal To, Less Than Or Equal To"
   ]
  },
  {
   "cell_type": "code",
   "execution_count": null,
   "id": "4a731b1d",
   "metadata": {},
   "outputs": [],
   "source": []
  },
  {
   "cell_type": "markdown",
   "id": "07b9c370",
   "metadata": {},
   "source": [
    "### And, Or, and Not\n",
    "\n",
    "#### And"
   ]
  },
  {
   "cell_type": "code",
   "execution_count": null,
   "id": "0c95021d",
   "metadata": {},
   "outputs": [],
   "source": []
  },
  {
   "cell_type": "markdown",
   "id": "13b823e8",
   "metadata": {},
   "source": [
    "#### Or"
   ]
  },
  {
   "cell_type": "code",
   "execution_count": null,
   "id": "5ee285e9",
   "metadata": {},
   "outputs": [],
   "source": []
  },
  {
   "cell_type": "markdown",
   "id": "db9ad5b8",
   "metadata": {},
   "source": [
    "#### Not"
   ]
  },
  {
   "cell_type": "code",
   "execution_count": null,
   "id": "afc06c17",
   "metadata": {},
   "outputs": [],
   "source": []
  },
  {
   "cell_type": "markdown",
   "id": "b5ad57f4",
   "metadata": {},
   "source": [
    "---\n",
    "\n",
    "### Boolean Operators and Expressions Recap\n",
    "\n",
    "* ***Boolean expressions*** are expressions that result in a boolean, although they can (and typically do) compare non-boolean values\n",
    "* ***Boolean operators*** are used to make comparisons in boolean expressions. The Java boolean operators are:\n",
    "  * `==` (is equal to)\n",
    "  * `>` (is greater than)\n",
    "  * `<` (is less than)\n",
    "  * `>=` (is greater than or equal to)\n",
    "  * `<=` (is less than or equal to)\n",
    "  * `&&` (and)\n",
    "  * `||` (or)\n",
    "  * `!` (not)\n",
    "  \n",
    "---"
   ]
  },
  {
   "cell_type": "markdown",
   "id": "9dca9928",
   "metadata": {},
   "source": [
    "## Conditional Statements\n",
    "\n",
    "Now we can finally start to implement control flow!"
   ]
  },
  {
   "cell_type": "markdown",
   "id": "a24187b9",
   "metadata": {},
   "source": [
    "<img src=\"images/flowchart.png\" alt=\"flowchart\" style=\"width: 40%\">\n",
    "\n",
    "<a href=\"https://www.flaticon.com/free-icons/process\" title=\"process icons\">Process icons created by Uniconlabs - Flaticon</a>\n",
    "\n",
    "---"
   ]
  },
  {
   "cell_type": "markdown",
   "id": "628c1f61",
   "metadata": {},
   "source": [
    "### `if`"
   ]
  },
  {
   "cell_type": "code",
   "execution_count": null,
   "id": "6774a6b6",
   "metadata": {},
   "outputs": [],
   "source": []
  },
  {
   "cell_type": "markdown",
   "id": "f01d530c",
   "metadata": {},
   "source": [
    "### `else if`"
   ]
  },
  {
   "cell_type": "code",
   "execution_count": null,
   "id": "130bd315",
   "metadata": {},
   "outputs": [],
   "source": []
  },
  {
   "cell_type": "markdown",
   "id": "6e06d2c6",
   "metadata": {},
   "source": [
    "### `else`"
   ]
  },
  {
   "cell_type": "code",
   "execution_count": null,
   "id": "e3211da9",
   "metadata": {},
   "outputs": [],
   "source": []
  },
  {
   "cell_type": "markdown",
   "id": "cda76b1a",
   "metadata": {},
   "source": [
    "### Code Blocks: The Dreaded Curly Braces"
   ]
  },
  {
   "cell_type": "code",
   "execution_count": null,
   "id": "a5a1402b",
   "metadata": {},
   "outputs": [],
   "source": []
  },
  {
   "cell_type": "markdown",
   "id": "acd1f8ba",
   "metadata": {},
   "source": [
    "### Conditional Statements Recap\n",
    "\n",
    "* A ***conditional statement*** = a boolean expression + `if`, `else if`, or `else` keyword\n",
    "* Conditional statements determine whether a given piece of code will be executed\n",
    "* Typically this code is contained in a ***code block*** surrounded by curly braces"
   ]
  },
  {
   "cell_type": "markdown",
   "id": "17fd586a",
   "metadata": {},
   "source": [
    "## Practice\n"
   ]
  },
  {
   "cell_type": "code",
   "execution_count": null,
   "id": "7ee79f04",
   "metadata": {},
   "outputs": [],
   "source": []
  },
  {
   "cell_type": "markdown",
   "id": "25f181fb",
   "metadata": {},
   "source": [
    "## Recap\n",
    "\n",
    "### Reviewing Learning Objectives\n",
    "\n",
    "Now you should be able to:\n",
    "\n",
    "* Define the term ***control flow*** and explain why it is a useful tool in programming"
   ]
  },
  {
   "cell_type": "markdown",
   "id": "5838bd89",
   "metadata": {},
   "source": []
  },
  {
   "cell_type": "markdown",
   "id": "6105e03f",
   "metadata": {},
   "source": [
    "* Describe the two values of the ***boolean*** data type in Java"
   ]
  },
  {
   "cell_type": "markdown",
   "id": "e76fe960",
   "metadata": {},
   "source": []
  },
  {
   "cell_type": "markdown",
   "id": "7b1b385d",
   "metadata": {},
   "source": [
    "* Apply ***operators*** to variables in order to form ***boolean expressions***"
   ]
  },
  {
   "cell_type": "code",
   "execution_count": null,
   "id": "2d7694ba",
   "metadata": {},
   "outputs": [],
   "source": []
  },
  {
   "cell_type": "markdown",
   "id": "e1abac0e",
   "metadata": {},
   "source": [
    "* Utilize boolean expressions in ***conditional statements*** that determine whether or not a given ***code block*** will be executed"
   ]
  },
  {
   "cell_type": "code",
   "execution_count": null,
   "id": "3ad36f23",
   "metadata": {},
   "outputs": [],
   "source": []
  },
  {
   "cell_type": "markdown",
   "id": "eb6e926f",
   "metadata": {},
   "source": [
    "* Practice translating English-language word problems into conditional statements and code blocks"
   ]
  },
  {
   "cell_type": "markdown",
   "id": "eac3d0e9",
   "metadata": {},
   "source": [
    "That's all, folks! Up next, another type of control flow: loops."
   ]
  }
 ],
 "metadata": {
  "kernelspec": {
   "display_name": "Java",
   "language": "java",
   "name": "java"
  },
  "language_info": {
   "codemirror_mode": "java",
   "file_extension": ".jshell",
   "mimetype": "text/x-java-source",
   "name": "Java",
   "pygments_lexer": "java",
   "version": "11.0.12+0"
  }
 },
 "nbformat": 4,
 "nbformat_minor": 5
}
