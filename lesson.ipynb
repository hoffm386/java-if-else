{
 "cells": [
  {
   "cell_type": "markdown",
   "id": "aeb58dcd",
   "metadata": {
    "slideshow": {
     "slide_type": "slide"
    }
   },
   "source": [
    "# Booleans and Conditional Statements\n",
    "\n",
    "---\n",
    "\n",
    "Erin R. Hoffman, February 2022"
   ]
  },
  {
   "cell_type": "markdown",
   "id": "6b506eb7",
   "metadata": {
    "slideshow": {
     "slide_type": "slide"
    }
   },
   "source": [
    "## Prerequisites\n",
    "\n",
    "Before this lesson, students should already be able to:\n",
    "\n",
    "* Create ***variables*** in Java, particularly integers and doubles\n",
    "* Use ***expressions*** to manipulate and combine variables\n",
    "* Follow the appropriate ***order of operations*** in Java expressions, including math operations"
   ]
  },
  {
   "cell_type": "markdown",
   "id": "cb8abef9",
   "metadata": {
    "slideshow": {
     "slide_type": "slide"
    }
   },
   "source": [
    "## Learning Objectives\n",
    "\n",
    "By the end of this lesson, students will be able to:\n",
    "* Define the term ***control flow*** and explain why it is a useful tool in programming\n",
    "* Describe the two values of the ***boolean*** data type in Java\n",
    "* Apply ***operators*** to variables in order to form ***boolean expressions***\n",
    "* Utilize boolean expressions in ***conditional statements*** that determine whether or not a given ***code block*** will be executed\n",
    "* Practice translating English-language word problems into conditional statements and code blocks\n"
   ]
  },
  {
   "cell_type": "markdown",
   "id": "99e15362",
   "metadata": {
    "slideshow": {
     "slide_type": "slide"
    }
   },
   "source": [
    "## The Motivation: Control Flow\n",
    "\n",
    "When do we need control flow?\n",
    "\n",
    "<img src=\"images/workflow.png\" alt=\"three shapes with arrows going from the first to the second to the third\" style=\"width: 20%\">\n",
    "\n",
    "<a href=\"https://www.flaticon.com/free-icons/workflow\" title=\"workflow icons\"><small>Workflow icons created by Uniconlabs - Flaticon</small></a>"
   ]
  },
  {
   "cell_type": "markdown",
   "id": "43c3aa41",
   "metadata": {
    "slideshow": {
     "slide_type": "fragment"
    }
   },
   "source": [
    "A better question might be...when do we **not** need control flow?"
   ]
  },
  {
   "cell_type": "markdown",
   "id": "214bd007",
   "metadata": {
    "slideshow": {
     "slide_type": "slide"
    }
   },
   "source": [
    "## The Boolean Data Type"
   ]
  },
  {
   "cell_type": "markdown",
   "id": "c534ca78",
   "metadata": {
    "slideshow": {
     "slide_type": "fragment"
    }
   },
   "source": [
    "### Recall: What Is a Data Type?"
   ]
  },
  {
   "cell_type": "markdown",
   "id": "de1b7a23",
   "metadata": {
    "slideshow": {
     "slide_type": "subslide"
    }
   },
   "source": [
    "Some data types you have seen already include:\n",
    "\n",
    "#### Integers"
   ]
  },
  {
   "cell_type": "code",
   "execution_count": null,
   "id": "59c55710",
   "metadata": {
    "slideshow": {
     "slide_type": "fragment"
    }
   },
   "outputs": [],
   "source": [
    "// Declaring and assigning variable\n",
    "int month = 12;"
   ]
  },
  {
   "cell_type": "code",
   "execution_count": null,
   "id": "da6475de",
   "metadata": {
    "slideshow": {
     "slide_type": "fragment"
    }
   },
   "outputs": [],
   "source": [
    "// Printing variable value\n",
    "System.out.println(month);"
   ]
  },
  {
   "cell_type": "code",
   "execution_count": null,
   "id": "d7101328",
   "metadata": {
    "slideshow": {
     "slide_type": "fragment"
    }
   },
   "outputs": [],
   "source": [
    "// Performing math operation on variable\n",
    "System.out.println(month - 2);"
   ]
  },
  {
   "cell_type": "code",
   "execution_count": null,
   "id": "0ed7c208",
   "metadata": {
    "slideshow": {
     "slide_type": "fragment"
    }
   },
   "outputs": [],
   "source": [
    "// Performing multiple math operations, with parentheses for order of operations\n",
    "System.out.println((month - 2) % 2);"
   ]
  },
  {
   "cell_type": "markdown",
   "id": "c2cd6685",
   "metadata": {
    "slideshow": {
     "slide_type": "subslide"
    }
   },
   "source": [
    "#### Doubles"
   ]
  },
  {
   "cell_type": "code",
   "execution_count": null,
   "id": "d537e309",
   "metadata": {
    "slideshow": {
     "slide_type": "fragment"
    }
   },
   "outputs": [],
   "source": [
    "// Declaring and assigning variable\n",
    "double length = 1.5;"
   ]
  },
  {
   "cell_type": "code",
   "execution_count": null,
   "id": "060406cc",
   "metadata": {
    "slideshow": {
     "slide_type": "fragment"
    }
   },
   "outputs": [],
   "source": [
    "// Printing variable value\n",
    "System.out.println(length);"
   ]
  },
  {
   "cell_type": "code",
   "execution_count": null,
   "id": "069e2d1c",
   "metadata": {
    "slideshow": {
     "slide_type": "fragment"
    }
   },
   "outputs": [],
   "source": [
    "// Performing math operation on variable\n",
    "System.out.println(length * 7);"
   ]
  },
  {
   "cell_type": "code",
   "execution_count": null,
   "id": "12e3a9b9",
   "metadata": {
    "slideshow": {
     "slide_type": "fragment"
    }
   },
   "outputs": [],
   "source": [
    "// Performing multiple math operations, with parentheses for order of operations\n",
    "System.out.println(10 / (length + 0.5));"
   ]
  },
  {
   "cell_type": "markdown",
   "id": "60a78525",
   "metadata": {
    "slideshow": {
     "slide_type": "subslide"
    }
   },
   "source": [
    "#### Boolean is another data type"
   ]
  },
  {
   "cell_type": "code",
   "execution_count": null,
   "id": "e4756442",
   "metadata": {
    "slideshow": {
     "slide_type": "fragment"
    }
   },
   "outputs": [],
   "source": [
    "boolean isSunny = true;"
   ]
  },
  {
   "cell_type": "code",
   "execution_count": null,
   "id": "dea3d3b4",
   "metadata": {
    "slideshow": {
     "slide_type": "fragment"
    }
   },
   "outputs": [],
   "source": [
    "isSunny"
   ]
  },
  {
   "cell_type": "code",
   "execution_count": null,
   "id": "813d3da8",
   "metadata": {
    "slideshow": {
     "slide_type": "fragment"
    }
   },
   "outputs": [],
   "source": [
    "boolean isRaining = false;"
   ]
  },
  {
   "cell_type": "code",
   "execution_count": null,
   "id": "6eb0a0ab",
   "metadata": {
    "slideshow": {
     "slide_type": "fragment"
    }
   },
   "outputs": [],
   "source": [
    "isRaining"
   ]
  },
  {
   "cell_type": "markdown",
   "id": "29446074",
   "metadata": {
    "slideshow": {
     "slide_type": "fragment"
    }
   },
   "source": [
    "<details>\n",
    "    <summary style=\"cursor: pointer;\">Clarification (click to expand)</summary>\n",
    "    <p>Confusingly, there is also a wrapper object called <code>Boolean</code> (note the capital \"B\"). We won't be using it, but you can read the documentation <a href=\"https://docs.oracle.com/en/java/javase/11/docs/api/java.base/java/lang/Boolean.html\">here</a> if you're curious</p>\n",
    "</details>\n"
   ]
  },
  {
   "cell_type": "markdown",
   "id": "cacceab3",
   "metadata": {
    "slideshow": {
     "slide_type": "subslide"
    }
   },
   "source": [
    "### Boolean Data Type Recap\n",
    "\n",
    "* A ***data type*** is something like `int` or `double`, which defines the \"kind of thing\" being stored in a variable\n",
    "* You have just been introduced to a data type called `boolean`\n",
    "* It can only have two values: `true` or `false`"
   ]
  },
  {
   "cell_type": "markdown",
   "id": "55f0dcb7",
   "metadata": {
    "slideshow": {
     "slide_type": "slide"
    }
   },
   "source": [
    "Ok but...why?"
   ]
  },
  {
   "cell_type": "markdown",
   "id": "a4dba036",
   "metadata": {
    "slideshow": {
     "slide_type": "fragment"
    }
   },
   "source": [
    "## Boolean Operators and Expressions"
   ]
  },
  {
   "cell_type": "markdown",
   "id": "444aa673",
   "metadata": {
    "slideshow": {
     "slide_type": "subslide"
    }
   },
   "source": [
    "Let's set up some example variables:"
   ]
  },
  {
   "cell_type": "code",
   "execution_count": null,
   "id": "432b9800",
   "metadata": {
    "slideshow": {
     "slide_type": "fragment"
    }
   },
   "outputs": [],
   "source": [
    "int lower = 0;\n",
    "int upper = 100;"
   ]
  },
  {
   "cell_type": "markdown",
   "id": "fa5e8685",
   "metadata": {
    "slideshow": {
     "slide_type": "subslide"
    }
   },
   "source": [
    "### Equality\n",
    "\n",
    "*Is 5 the minimum?*"
   ]
  },
  {
   "cell_type": "code",
   "execution_count": null,
   "id": "6f8cf67e",
   "metadata": {
    "slideshow": {
     "slide_type": "fragment"
    }
   },
   "outputs": [],
   "source": [
    "5 == lower"
   ]
  },
  {
   "cell_type": "markdown",
   "id": "c8a4ab30",
   "metadata": {
    "slideshow": {
     "slide_type": "fragment"
    }
   },
   "source": [
    "*Is the maximum 100?*"
   ]
  },
  {
   "cell_type": "code",
   "execution_count": null,
   "id": "18c212fc",
   "metadata": {
    "slideshow": {
     "slide_type": "fragment"
    }
   },
   "outputs": [],
   "source": [
    "upper == 100"
   ]
  },
  {
   "cell_type": "markdown",
   "id": "256120e8",
   "metadata": {
    "slideshow": {
     "slide_type": "fragment"
    }
   },
   "source": [
    "*Are the minimum and maximum the same?*"
   ]
  },
  {
   "cell_type": "code",
   "execution_count": null,
   "id": "afb80bc0",
   "metadata": {
    "slideshow": {
     "slide_type": "fragment"
    }
   },
   "outputs": [],
   "source": [
    "lower == upper"
   ]
  },
  {
   "cell_type": "markdown",
   "id": "54cddef1",
   "metadata": {
    "slideshow": {
     "slide_type": "subslide"
    }
   },
   "source": [
    "### Not\n",
    "\n",
    "*Is 5* **not** *the minimum?*"
   ]
  },
  {
   "cell_type": "code",
   "execution_count": null,
   "id": "0d6c5bd6",
   "metadata": {
    "slideshow": {
     "slide_type": "fragment"
    }
   },
   "outputs": [],
   "source": [
    "!(5 == lower)"
   ]
  },
  {
   "cell_type": "code",
   "execution_count": null,
   "id": "5b9b1c33",
   "metadata": {
    "slideshow": {
     "slide_type": "fragment"
    }
   },
   "outputs": [],
   "source": [
    "5 != lower"
   ]
  },
  {
   "cell_type": "markdown",
   "id": "339369bb",
   "metadata": {
    "slideshow": {
     "slide_type": "subslide"
    }
   },
   "source": [
    "### Greater Than, Less Than\n",
    "\n",
    "*The user has input a value of 50. Is that more than the minimum?*"
   ]
  },
  {
   "cell_type": "code",
   "execution_count": null,
   "id": "6df02586",
   "metadata": {
    "slideshow": {
     "slide_type": "fragment"
    }
   },
   "outputs": [],
   "source": [
    "50 > lower"
   ]
  },
  {
   "cell_type": "markdown",
   "id": "80499beb",
   "metadata": {
    "slideshow": {
     "slide_type": "fragment"
    }
   },
   "source": [
    "*Is it less than the maximum?*"
   ]
  },
  {
   "cell_type": "code",
   "execution_count": null,
   "id": "d371c40c",
   "metadata": {
    "slideshow": {
     "slide_type": "fragment"
    }
   },
   "outputs": [],
   "source": [
    "50 < upper"
   ]
  },
  {
   "cell_type": "markdown",
   "id": "bdc074b2",
   "metadata": {
    "slideshow": {
     "slide_type": "fragment"
    }
   },
   "source": [
    "*Now the user has input 100. Is that less than the maximum?*"
   ]
  },
  {
   "cell_type": "code",
   "execution_count": null,
   "id": "2fbbae3a",
   "metadata": {
    "slideshow": {
     "slide_type": "fragment"
    }
   },
   "outputs": [],
   "source": [
    "100 < upper"
   ]
  },
  {
   "cell_type": "markdown",
   "id": "b9b0b640",
   "metadata": {
    "slideshow": {
     "slide_type": "subslide"
    }
   },
   "source": [
    "### Greater Than Or Equal To, Less Than Or Equal To\n",
    "\n",
    "*What if we want to define the valid range as 0 to 100* **inclusive**_? Is 100 a valid input?_"
   ]
  },
  {
   "cell_type": "code",
   "execution_count": null,
   "id": "4a731b1d",
   "metadata": {
    "slideshow": {
     "slide_type": "fragment"
    }
   },
   "outputs": [],
   "source": [
    "100 >= lower"
   ]
  },
  {
   "cell_type": "code",
   "execution_count": null,
   "id": "2b63eb30",
   "metadata": {
    "slideshow": {
     "slide_type": "fragment"
    }
   },
   "outputs": [],
   "source": [
    "100 <= upper"
   ]
  },
  {
   "cell_type": "markdown",
   "id": "07b9c370",
   "metadata": {
    "slideshow": {
     "slide_type": "subslide"
    }
   },
   "source": [
    "### And and Or\n",
    "\n",
    "#### And\n",
    "\n",
    "*Can we check whether an input is valid in a single line?*"
   ]
  },
  {
   "cell_type": "code",
   "execution_count": null,
   "id": "0c95021d",
   "metadata": {
    "slideshow": {
     "slide_type": "fragment"
    }
   },
   "outputs": [],
   "source": [
    "(lower <= 100) && (100 <= upper)"
   ]
  },
  {
   "cell_type": "code",
   "execution_count": null,
   "id": "18e8b4fe",
   "metadata": {
    "slideshow": {
     "slide_type": "fragment"
    }
   },
   "outputs": [],
   "source": [
    "(lower <= 500) && (500 <= upper)"
   ]
  },
  {
   "cell_type": "code",
   "execution_count": null,
   "id": "4159e2c2",
   "metadata": {
    "slideshow": {
     "slide_type": "fragment"
    }
   },
   "outputs": [],
   "source": [
    "(lower <= -5) && (-5 <= lower)"
   ]
  },
  {
   "cell_type": "markdown",
   "id": "13b823e8",
   "metadata": {
    "slideshow": {
     "slide_type": "subslide"
    }
   },
   "source": [
    "#### Or\n",
    "\n",
    "*What if, instead of an inclusive range, inputs are valid if they're* **either** *below the lower bound* **or** *above the upper bound?*"
   ]
  },
  {
   "cell_type": "code",
   "execution_count": null,
   "id": "5ee285e9",
   "metadata": {
    "slideshow": {
     "slide_type": "fragment"
    }
   },
   "outputs": [],
   "source": [
    "(100 <= lower) || (upper <= 100)"
   ]
  },
  {
   "cell_type": "code",
   "execution_count": null,
   "id": "ea25411c",
   "metadata": {
    "slideshow": {
     "slide_type": "fragment"
    }
   },
   "outputs": [],
   "source": [
    "(500 <= lower) || (upper <= 500)"
   ]
  },
  {
   "cell_type": "code",
   "execution_count": null,
   "id": "b3e1736e",
   "metadata": {
    "slideshow": {
     "slide_type": "fragment"
    }
   },
   "outputs": [],
   "source": [
    "(-5 <= lower) || (upper <= -5)"
   ]
  },
  {
   "cell_type": "markdown",
   "id": "b5ad57f4",
   "metadata": {
    "slideshow": {
     "slide_type": "subslide"
    }
   },
   "source": [
    "### Boolean Operators and Expressions Recap\n",
    "\n",
    "* ***Boolean expressions*** are expressions that result in a boolean, although they can (and typically do) compare non-boolean values\n",
    "* ***Boolean operators*** are used to make comparisons in boolean expressions. The Java boolean operators are:\n",
    "  * `==` (is equal to)\n",
    "  * `!=` (is not equal to)\n",
    "  * `>` (is greater than)\n",
    "  * `<` (is less than)\n",
    "  * `>=` (is greater than or equal to)\n",
    "  * `<=` (is less than or equal to)\n",
    "  * `&&` (and)\n",
    "  * `||` (or)\n",
    "  * `!` (not)"
   ]
  },
  {
   "cell_type": "markdown",
   "id": "9dca9928",
   "metadata": {
    "slideshow": {
     "slide_type": "slide"
    }
   },
   "source": [
    "## Conditional Statements\n",
    "\n",
    "Now we can finally start to implement control flow!\n",
    "\n",
    "<img src=\"images/flowchart.png\" alt=\"flowchart\" style=\"width: 20%\">\n",
    "\n",
    "<a href=\"https://www.flaticon.com/free-icons/process\" title=\"process icons\"><small>Process icons created by Uniconlabs - Flaticon</small></a>"
   ]
  },
  {
   "cell_type": "markdown",
   "id": "628c1f61",
   "metadata": {
    "slideshow": {
     "slide_type": "subslide"
    }
   },
   "source": [
    "### `if`\n",
    "\n",
    "*User input is invalid if it's smaller than the minimum.*"
   ]
  },
  {
   "cell_type": "code",
   "execution_count": null,
   "id": "0ff396a8",
   "metadata": {
    "slideshow": {
     "slide_type": "fragment"
    }
   },
   "outputs": [],
   "source": [
    "int userInput = -5;"
   ]
  },
  {
   "cell_type": "code",
   "execution_count": null,
   "id": "6774a6b6",
   "metadata": {
    "slideshow": {
     "slide_type": "fragment"
    }
   },
   "outputs": [],
   "source": [
    "if (userInput < lower) System.out.println(\"Input too small\");"
   ]
  },
  {
   "cell_type": "markdown",
   "id": "f01d530c",
   "metadata": {
    "slideshow": {
     "slide_type": "subslide"
    }
   },
   "source": [
    "### `else if`\n",
    "\n",
    "*User input is also invalid if it's larger than the maximum.*"
   ]
  },
  {
   "cell_type": "code",
   "execution_count": null,
   "id": "130bd315",
   "metadata": {
    "slideshow": {
     "slide_type": "fragment"
    }
   },
   "outputs": [],
   "source": [
    "if (userInput < lower) System.out.println(\"Input too small\");\n",
    "else if (userInput > upper) System.out.println(\"Input too big\");"
   ]
  },
  {
   "cell_type": "code",
   "execution_count": null,
   "id": "3e9c1a94",
   "metadata": {
    "slideshow": {
     "slide_type": "fragment"
    }
   },
   "outputs": [],
   "source": [
    "userInput = 500;"
   ]
  },
  {
   "cell_type": "code",
   "execution_count": null,
   "id": "b8379df0",
   "metadata": {
    "slideshow": {
     "slide_type": "fragment"
    }
   },
   "outputs": [],
   "source": [
    "if (userInput < lower) System.out.println(\"Input too small\");\n",
    "else if (userInput > upper) System.out.println(\"Input too big\");"
   ]
  },
  {
   "cell_type": "markdown",
   "id": "6e06d2c6",
   "metadata": {
    "slideshow": {
     "slide_type": "subslide"
    }
   },
   "source": [
    "### `else`\n",
    "\n",
    "*Otherwise, user input is valid.*"
   ]
  },
  {
   "cell_type": "code",
   "execution_count": null,
   "id": "e3211da9",
   "metadata": {
    "slideshow": {
     "slide_type": "fragment"
    }
   },
   "outputs": [],
   "source": [
    "if (userInput < lower) System.out.println(\"Input too small\");\n",
    "else if (userInput > upper) System.out.println(\"Input too big\");\n",
    "else System.out.println(\"Valid input!\");"
   ]
  },
  {
   "cell_type": "code",
   "execution_count": null,
   "id": "06deee4a",
   "metadata": {
    "slideshow": {
     "slide_type": "fragment"
    }
   },
   "outputs": [],
   "source": [
    "userInput = 75;"
   ]
  },
  {
   "cell_type": "code",
   "execution_count": null,
   "id": "d0a41ab0",
   "metadata": {
    "slideshow": {
     "slide_type": "fragment"
    }
   },
   "outputs": [],
   "source": [
    "if (userInput < lower) System.out.println(\"Input too small\");\n",
    "else if (userInput > upper) System.out.println(\"Input too big\");\n",
    "else System.out.println(\"Valid input!\");"
   ]
  },
  {
   "cell_type": "markdown",
   "id": "cda76b1a",
   "metadata": {
    "slideshow": {
     "slide_type": "subslide"
    }
   },
   "source": [
    "### Code Blocks: The Dreaded Curly Braces"
   ]
  },
  {
   "cell_type": "code",
   "execution_count": null,
   "id": "a5a1402b",
   "metadata": {
    "slideshow": {
     "slide_type": "fragment"
    }
   },
   "outputs": [],
   "source": [
    "if (userInput < lower) {\n",
    "    System.out.println(\"Input too small\");\n",
    "} else if (userInput > upper) {\n",
    "    System.out.println(\"Input too big\");\n",
    "} else {\n",
    "    System.out.println(\"Valid input!\");\n",
    "}"
   ]
  },
  {
   "cell_type": "markdown",
   "id": "acd1f8ba",
   "metadata": {
    "slideshow": {
     "slide_type": "subslide"
    }
   },
   "source": [
    "### Conditional Statements Recap\n",
    "\n",
    "* A ***conditional statement*** = a boolean expression + `if`, `else if`, or `else` keyword\n",
    "* Conditional statements determine whether a given piece of code will be executed\n",
    "* Typically this code is contained in a ***code block*** surrounded by curly braces"
   ]
  },
  {
   "cell_type": "markdown",
   "id": "17fd586a",
   "metadata": {
    "slideshow": {
     "slide_type": "slide"
    }
   },
   "source": [
    "## Practice\n",
    "\n",
    "A tricky but exemplary conditional statement word problem is FizzBuzz, which comes from a [children's game](https://en.wikipedia.org/wiki/Fizz_buzz).\n",
    "\n",
    "It goes like this:\n",
    "\n",
    "* Given a number, print it out\n",
    "* Except if the number is divisible by 3, print out \"Fizz\" instead\n",
    "* And if the number is divisible by 5, print out \"Buzz\" instead\n",
    "* Finally, if the number is divisible by both 3 and 5, print out \"FizzBuzz\" instead"
   ]
  },
  {
   "cell_type": "code",
   "execution_count": null,
   "id": "7ee79f04",
   "metadata": {
    "slideshow": {
     "slide_type": "subslide"
    }
   },
   "outputs": [],
   "source": [
    "// Given a number, print it out\n",
    "// Except if the number is divisible by 3, print out \"Fizz\" instead\n",
    "// And if the number is divisible by 5, print out \"Buzz\" instead\n",
    "// Finally, if the number is divisible by both 3 and 5, print out \"FizzBuzz\" instead"
   ]
  },
  {
   "cell_type": "code",
   "execution_count": null,
   "id": "2fff5826",
   "metadata": {
    "slideshow": {
     "slide_type": "fragment"
    }
   },
   "outputs": [],
   "source": []
  },
  {
   "cell_type": "markdown",
   "id": "25f181fb",
   "metadata": {
    "slideshow": {
     "slide_type": "slide"
    }
   },
   "source": [
    "## Recap\n",
    "\n",
    "### Reviewing Learning Objectives\n",
    "\n",
    "Now you should be able to:"
   ]
  },
  {
   "cell_type": "markdown",
   "id": "372927ef",
   "metadata": {
    "slideshow": {
     "slide_type": "fragment"
    }
   },
   "source": [
    "* Define the term ***control flow*** and explain why it is a useful tool in programming"
   ]
  },
  {
   "cell_type": "markdown",
   "id": "6105e03f",
   "metadata": {
    "slideshow": {
     "slide_type": "fragment"
    }
   },
   "source": [
    "* Describe the two values of the ***boolean*** data type in Java"
   ]
  },
  {
   "cell_type": "markdown",
   "id": "7b1b385d",
   "metadata": {
    "slideshow": {
     "slide_type": "fragment"
    }
   },
   "source": [
    "* Apply ***operators*** to variables in order to form ***boolean expressions***"
   ]
  },
  {
   "cell_type": "markdown",
   "id": "e1abac0e",
   "metadata": {
    "slideshow": {
     "slide_type": "fragment"
    }
   },
   "source": [
    "* Utilize boolean expressions in ***conditional statements*** that determine whether or not a given ***code block*** will be executed"
   ]
  },
  {
   "cell_type": "markdown",
   "id": "eb6e926f",
   "metadata": {
    "slideshow": {
     "slide_type": "fragment"
    }
   },
   "source": [
    "* Practice translating English-language word problems into conditional statements and code blocks"
   ]
  },
  {
   "cell_type": "markdown",
   "id": "eac3d0e9",
   "metadata": {
    "slideshow": {
     "slide_type": "slide"
    }
   },
   "source": [
    "That's all, folks! Up next, another type of control flow: loops."
   ]
  }
 ],
 "metadata": {
  "celltoolbar": "Slideshow",
  "kernelspec": {
   "display_name": "Java",
   "language": "java",
   "name": "java"
  },
  "language_info": {
   "codemirror_mode": "java",
   "file_extension": ".jshell",
   "mimetype": "text/x-java-source",
   "name": "Java",
   "pygments_lexer": "java",
   "version": "11.0.12+0"
  },
  "rise": {
   "transition": "fade"
  }
 },
 "nbformat": 4,
 "nbformat_minor": 5
}
